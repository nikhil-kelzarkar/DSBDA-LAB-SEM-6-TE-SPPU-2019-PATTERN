{
 "cells": [
  {
   "cell_type": "code",
   "execution_count": 1,
   "id": "03be47be-7df7-4534-aec5-7a323f80dc63",
   "metadata": {},
   "outputs": [],
   "source": [
    " import pandas as pd\n",
    " import numpy as np\n",
    " import matplotlib.pyplot as plt\n",
    " import seaborn as sns"
   ]
  },
  {
   "cell_type": "code",
   "execution_count": 2,
   "id": "3cb9cdc6-f98e-4134-bc63-aaf036e77321",
   "metadata": {},
   "outputs": [],
   "source": [
    "def RemoveOutlier(df,var):\n",
    " Q1 = df[var].quantile(0.25)\n",
    " Q3 = df[var].quantile(0.75)\n",
    " IQR = Q3 - Q1\n",
    " high, low = Q3+1.5*IQR, Q1-1.5*IQR\n",
    " print(\"Highest allowed in variable:\", var, high)\n",
    " print(\"lowest allowed in variable:\", var, low)\n",
    " count = df[(df[var] > high) | (df[var] < low)][var].count()\n",
    " print('Total outliers in:',var,':',count)\n",
    " df = df[((df[var] >= low) & (df[var] <= high))]\n",
    " return df"
   ]
  },
  {
   "cell_type": "code",
   "execution_count": 16,
   "id": "639d1724-6687-4d38-9c31-47ab4e66d825",
   "metadata": {},
   "outputs": [],
   "source": [
    "def BuildModel(X, Y):\n",
    " # Training and testing data\n",
    " from sklearn.model_selection import train_test_split\n",
    " # Assign test data size 20%\n",
    " xtrain, xtest, ytrain, ytest =train_test_split(X,Y,test_size= 0.25, random_state=13)       \n",
    " from sklearn.linear_model import LogisticRegression\n",
    " model = LogisticRegression(solver = 'lbfgs')\n",
    " model = model.fit(xtrain,ytrain)\n",
    " ypred = model.predict(xtest)\n",
    " from sklearn.metrics import confusion_matrix\n",
    " cm = confusion_matrix(ytest, ypred)\n",
    " sns.heatmap(cm, annot=True)\n",
    " plt.show()\n",
    " from sklearn.metrics import classification_report\n",
    " print(classification_report(ytest, ypred))"
   ]
  },
  {
   "cell_type": "code",
   "execution_count": 17,
   "id": "2c234b22-4214-4041-87fa-49d41cfb8f7a",
   "metadata": {},
   "outputs": [],
   "source": [
    "df = pd.read_csv('purchase.csv')"
   ]
  },
  {
   "cell_type": "code",
   "execution_count": 18,
   "id": "ea74e722-aedc-4b03-9848-18159e3d0b64",
   "metadata": {},
   "outputs": [
    {
     "name": "stdout",
     "output_type": "stream",
     "text": [
      "Information of Dataset:\n",
      " <bound method DataFrame.info of       User ID  Gender  Age  EstimatedSalary  Purchased\n",
      "0    15624510    Male   19            19000          0\n",
      "1    15810944    Male   35            20000          0\n",
      "2    15668575  Female   26            43000          0\n",
      "3    15603246  Female   27            57000          0\n",
      "4    15804002    Male   19            76000          0\n",
      "..        ...     ...  ...              ...        ...\n",
      "395  15691863  Female   46            41000          1\n",
      "396  15706071    Male   51            23000          1\n",
      "397  15654296  Female   50            20000          1\n",
      "398  15755018    Male   36            33000          0\n",
      "399  15594041  Female   49            36000          1\n",
      "\n",
      "[400 rows x 5 columns]>\n",
      "Shape of Dataset (row x column):  (400, 5)\n",
      "Columns Name:  Index(['User ID', 'Gender', 'Age', 'EstimatedSalary', 'Purchased'], dtype='object')\n",
      "Total elements in dataset: 2000\n",
      "Datatype of attributes (columns): User ID             int64\n",
      "Gender             object\n",
      "Age                 int64\n",
      "EstimatedSalary     int64\n",
      "Purchased           int64\n",
      "dtype: object\n",
      "First 5 rows:\n",
      "                         0         1         2         3         4\n",
      "User ID          15624510  15810944  15668575  15603246  15804002\n",
      "Gender               Male      Male    Female    Female      Male\n",
      "Age                    19        35        26        27        19\n",
      "EstimatedSalary     19000     20000     43000     57000     76000\n",
      "Purchased               0         0         0         0         0\n",
      "Last 5 rows:\n",
      "                       395       396       397       398       399\n",
      "User ID          15691863  15706071  15654296  15755018  15594041\n",
      "Gender             Female      Male    Female      Male    Female\n",
      "Age                    46        51        50        36        49\n",
      "EstimatedSalary     41000     23000     20000     33000     36000\n",
      "Purchased               1         1         1         0         1\n",
      "Any 5 rows:\n",
      "                       307       351       68        177       226\n",
      "User ID          15733973  15591279  15577178  15594577  15795224\n",
      "Gender             Female      Male    Female      Male    Female\n",
      "Age                    47        37        22        25        36\n",
      "EstimatedSalary    113000     75000     63000     22000    126000\n",
      "Purchased               1         0         0         0         1\n"
     ]
    }
   ],
   "source": [
    " print('Information of Dataset:\\n', df.info)\n",
    " print('Shape of Dataset (row x column): ', df.shape)\n",
    " print('Columns Name: ', df.columns)\n",
    " print('Total elements in dataset:', df.size)\n",
    " print('Datatype of attributes (columns):', df.dtypes)\n",
    " print('First 5 rows:\\n', df.head().T)\n",
    " print('Last 5 rows:\\n',df.tail().T)\n",
    " print('Any 5 rows:\\n',df.sample(5).T)"
   ]
  },
  {
   "cell_type": "code",
   "execution_count": 19,
   "id": "94c04850-d451-4ea4-9424-ead83d504bf3",
   "metadata": {},
   "outputs": [],
   "source": [
    " df = df.drop('User ID', axis=1)\n",
    " df.columns = ['Gender', 'Age', 'Salary', 'Purchased']"
   ]
  },
  {
   "cell_type": "code",
   "execution_count": 20,
   "id": "d888f436-ffa4-45fd-aead-5d5289efae5b",
   "metadata": {},
   "outputs": [
    {
     "data": {
      "text/html": [
       "<div>\n",
       "<style scoped>\n",
       "    .dataframe tbody tr th:only-of-type {\n",
       "        vertical-align: middle;\n",
       "    }\n",
       "\n",
       "    .dataframe tbody tr th {\n",
       "        vertical-align: top;\n",
       "    }\n",
       "\n",
       "    .dataframe thead th {\n",
       "        text-align: right;\n",
       "    }\n",
       "</style>\n",
       "<table border=\"1\" class=\"dataframe\">\n",
       "  <thead>\n",
       "    <tr style=\"text-align: right;\">\n",
       "      <th></th>\n",
       "      <th>Gender</th>\n",
       "      <th>Age</th>\n",
       "      <th>Salary</th>\n",
       "      <th>Purchased</th>\n",
       "    </tr>\n",
       "  </thead>\n",
       "  <tbody>\n",
       "    <tr>\n",
       "      <th>0</th>\n",
       "      <td>Male</td>\n",
       "      <td>19</td>\n",
       "      <td>19000</td>\n",
       "      <td>0</td>\n",
       "    </tr>\n",
       "    <tr>\n",
       "      <th>1</th>\n",
       "      <td>Male</td>\n",
       "      <td>35</td>\n",
       "      <td>20000</td>\n",
       "      <td>0</td>\n",
       "    </tr>\n",
       "    <tr>\n",
       "      <th>2</th>\n",
       "      <td>Female</td>\n",
       "      <td>26</td>\n",
       "      <td>43000</td>\n",
       "      <td>0</td>\n",
       "    </tr>\n",
       "    <tr>\n",
       "      <th>3</th>\n",
       "      <td>Female</td>\n",
       "      <td>27</td>\n",
       "      <td>57000</td>\n",
       "      <td>0</td>\n",
       "    </tr>\n",
       "    <tr>\n",
       "      <th>4</th>\n",
       "      <td>Male</td>\n",
       "      <td>19</td>\n",
       "      <td>76000</td>\n",
       "      <td>0</td>\n",
       "    </tr>\n",
       "    <tr>\n",
       "      <th>...</th>\n",
       "      <td>...</td>\n",
       "      <td>...</td>\n",
       "      <td>...</td>\n",
       "      <td>...</td>\n",
       "    </tr>\n",
       "    <tr>\n",
       "      <th>395</th>\n",
       "      <td>Female</td>\n",
       "      <td>46</td>\n",
       "      <td>41000</td>\n",
       "      <td>1</td>\n",
       "    </tr>\n",
       "    <tr>\n",
       "      <th>396</th>\n",
       "      <td>Male</td>\n",
       "      <td>51</td>\n",
       "      <td>23000</td>\n",
       "      <td>1</td>\n",
       "    </tr>\n",
       "    <tr>\n",
       "      <th>397</th>\n",
       "      <td>Female</td>\n",
       "      <td>50</td>\n",
       "      <td>20000</td>\n",
       "      <td>1</td>\n",
       "    </tr>\n",
       "    <tr>\n",
       "      <th>398</th>\n",
       "      <td>Male</td>\n",
       "      <td>36</td>\n",
       "      <td>33000</td>\n",
       "      <td>0</td>\n",
       "    </tr>\n",
       "    <tr>\n",
       "      <th>399</th>\n",
       "      <td>Female</td>\n",
       "      <td>49</td>\n",
       "      <td>36000</td>\n",
       "      <td>1</td>\n",
       "    </tr>\n",
       "  </tbody>\n",
       "</table>\n",
       "<p>400 rows × 4 columns</p>\n",
       "</div>"
      ],
      "text/plain": [
       "     Gender  Age  Salary  Purchased\n",
       "0      Male   19   19000          0\n",
       "1      Male   35   20000          0\n",
       "2    Female   26   43000          0\n",
       "3    Female   27   57000          0\n",
       "4      Male   19   76000          0\n",
       "..      ...  ...     ...        ...\n",
       "395  Female   46   41000          1\n",
       "396    Male   51   23000          1\n",
       "397  Female   50   20000          1\n",
       "398    Male   36   33000          0\n",
       "399  Female   49   36000          1\n",
       "\n",
       "[400 rows x 4 columns]"
      ]
     },
     "execution_count": 20,
     "metadata": {},
     "output_type": "execute_result"
    }
   ],
   "source": [
    "df"
   ]
  },
  {
   "cell_type": "code",
   "execution_count": 21,
   "id": "0774dac8-71aa-4af8-9c70-b8f7c9e5dbdf",
   "metadata": {},
   "outputs": [
    {
     "name": "stdout",
     "output_type": "stream",
     "text": [
      "Statistical information of Numerical Columns: \n",
      "               Age         Salary   Purchased\n",
      "count  400.000000     400.000000  400.000000\n",
      "mean    37.655000   69742.500000    0.357500\n",
      "std     10.482877   34096.960282    0.479864\n",
      "min     18.000000   15000.000000    0.000000\n",
      "25%     29.750000   43000.000000    0.000000\n",
      "50%     37.000000   70000.000000    0.000000\n",
      "75%     46.000000   88000.000000    1.000000\n",
      "max     60.000000  150000.000000    1.000000\n"
     ]
    }
   ],
   "source": [
    "print('Statistical information of Numerical Columns: \\n',df.describe())"
   ]
  },
  {
   "cell_type": "code",
   "execution_count": 22,
   "id": "aa042219-cc3b-4fc7-a77f-18ff22906a80",
   "metadata": {},
   "outputs": [
    {
     "name": "stdout",
     "output_type": "stream",
     "text": [
      "Total Number of Null Values in Dataset: Gender       0\n",
      "Age          0\n",
      "Salary       0\n",
      "Purchased    0\n",
      "dtype: int64\n"
     ]
    }
   ],
   "source": [
    "print('Total Number of Null Values in Dataset:', df.isna().sum())"
   ]
  },
  {
   "cell_type": "code",
   "execution_count": 25,
   "id": "5744ab1e-be48-480e-8b7d-1abe2db2a103",
   "metadata": {},
   "outputs": [
    {
     "data": {
      "text/plain": [
       "0        Male\n",
       "1        Male\n",
       "2      Female\n",
       "3      Female\n",
       "4        Male\n",
       "        ...  \n",
       "395    Female\n",
       "396      Male\n",
       "397    Female\n",
       "398      Male\n",
       "399    Female\n",
       "Name: Gender, Length: 400, dtype: object"
      ]
     },
     "execution_count": 25,
     "metadata": {},
     "output_type": "execute_result"
    }
   ],
   "source": [
    "df['Gender']"
   ]
  },
  {
   "cell_type": "code",
   "execution_count": 26,
   "id": "50f9ccf3-483f-41f8-b967-787d4d02f8ef",
   "metadata": {},
   "outputs": [],
   "source": [
    "df['Gender']=df['Gender'].astype('category')"
   ]
  },
  {
   "cell_type": "code",
   "execution_count": 27,
   "id": "0f7891c7-179b-46d2-9c45-2b3e3843ddc8",
   "metadata": {},
   "outputs": [
    {
     "data": {
      "text/plain": [
       "0        Male\n",
       "1        Male\n",
       "2      Female\n",
       "3      Female\n",
       "4        Male\n",
       "        ...  \n",
       "395    Female\n",
       "396      Male\n",
       "397    Female\n",
       "398      Male\n",
       "399    Female\n",
       "Name: Gender, Length: 400, dtype: category\n",
       "Categories (2, object): ['Female', 'Male']"
      ]
     },
     "execution_count": 27,
     "metadata": {},
     "output_type": "execute_result"
    }
   ],
   "source": [
    "df['Gender']"
   ]
  },
  {
   "cell_type": "code",
   "execution_count": 28,
   "id": "d697fb91-c280-4348-be21-7309c16d3370",
   "metadata": {},
   "outputs": [],
   "source": [
    "df['Gender']=df['Gender'].cat.codes"
   ]
  },
  {
   "cell_type": "code",
   "execution_count": 29,
   "id": "aaaaf9f2-70df-4b9d-bba9-9d188e8a31fb",
   "metadata": {},
   "outputs": [
    {
     "data": {
      "text/plain": [
       "0      1\n",
       "1      1\n",
       "2      0\n",
       "3      0\n",
       "4      1\n",
       "      ..\n",
       "395    0\n",
       "396    1\n",
       "397    0\n",
       "398    1\n",
       "399    0\n",
       "Name: Gender, Length: 400, dtype: int8"
      ]
     },
     "execution_count": 29,
     "metadata": {},
     "output_type": "execute_result"
    }
   ],
   "source": [
    "df['Gender']"
   ]
  },
  {
   "cell_type": "code",
   "execution_count": 30,
   "id": "ad63aa14-8960-426e-ad25-5d5453d10296",
   "metadata": {},
   "outputs": [
    {
     "data": {
      "image/png": "[encoded data removed]",
      "text/plain": [
       "<Figure size 640x480 with 2 Axes>"
      ]
     },
     "metadata": {},
     "output_type": "display_data"
    }
   ],
   "source": [
    " sns.heatmap(df.corr(),annot=True)\n",
    " plt.show()"
   ]
  },
  {
   "cell_type": "code",
   "execution_count": 32,
   "id": "59ebc0cf-c66c-4feb-bf6d-c580f19d0aab",
   "metadata": {},
   "outputs": [
    {
     "data": {
      "image/png": "[encoded data removed]",
      "text/plain": [
       "<Figure size 640x480 with 2 Axes>"
      ]
     },
     "metadata": {},
     "output_type": "display_data"
    },
    {
     "name": "stdout",
     "output_type": "stream",
     "text": [
      "              precision    recall  f1-score   support\n",
      "\n",
      "           0       0.70      0.81      0.75        72\n",
      "           1       0.18      0.11      0.13        28\n",
      "\n",
      "    accuracy                           0.61       100\n",
      "   macro avg       0.44      0.46      0.44       100\n",
      "weighted avg       0.55      0.61      0.58       100\n",
      "\n"
     ]
    }
   ],
   "source": [
    "X = df[['Age','Salary']]\n",
    "Y = df['Purchased']\n",
    "BuildModel(X, Y)"
   ]
  },
  {
   "cell_type": "code",
   "execution_count": 33,
   "id": "9b423642-83ab-4a10-9784-b42dca1a90fc",
   "metadata": {},
   "outputs": [
    {
     "data": {
      "image/png": "[encoded data removed]",
      "text/plain": [
       "<Figure size 640x480 with 2 Axes>"
      ]
     },
     "metadata": {},
     "output_type": "display_data"
    }
   ],
   "source": [
    "fig, axes = plt.subplots(1,2)\n",
    "sns.boxplot(data = df, x ='Age', ax=axes[0])\n",
    "sns.boxplot(data = df, x ='Salary', ax=axes[1])\n",
    "fig.tight_layout()\n",
    "plt.show()"
   ]
  },
  {
   "cell_type": "code",
   "execution_count": 34,
   "id": "23e949e4-817b-430e-9ab9-97a7e9bf0072",
   "metadata": {},
   "outputs": [
    {
     "name": "stdout",
     "output_type": "stream",
     "text": [
      "Highest allowed in variable: Age 70.375\n",
      "lowest allowed in variable: Age 5.375\n",
      "Total outliers in: Age : 0\n",
      "Highest allowed in variable: Salary 155500.0\n",
      "lowest allowed in variable: Salary -24500.0\n",
      "Total outliers in: Salary : 0\n"
     ]
    }
   ],
   "source": [
    " df = RemoveOutlier(df, 'Age')\n",
    " df = RemoveOutlier(df, 'Salary')"
   ]
  },
  {
   "cell_type": "code",
   "execution_count": null,
   "id": "bc679f07-c588-4a99-bb41-4f164d1c4627",
   "metadata": {},
   "outputs": [],
   "source": []
  }
 ],
 "metadata": {
  "kernelspec": {
   "display_name": "Python 3 (ipykernel)",
   "language": "python",
   "name": "python3"
  },
  "language_info": {
   "codemirror_mode": {
    "name": "ipython",
    "version": 3
   },
   "file_extension": ".py",
   "mimetype": "text/x-python",
   "name": "python",
   "nbconvert_exporter": "python",
   "pygments_lexer": "ipython3",
   "version": "3.11.7"
  }
 },
 "nbformat": 4,
 "nbformat_minor": 5
}
