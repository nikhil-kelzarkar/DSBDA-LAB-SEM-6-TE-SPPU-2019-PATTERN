{
 "cells": [
  {
   "cell_type": "code",
   "execution_count": 1,
   "id": "bbc08d7b-9331-453a-b051-4baa8395c158",
   "metadata": {},
   "outputs": [],
   "source": [
    "import numpy as np"
   ]
  },
  {
   "cell_type": "code",
   "execution_count": 2,
   "id": "393b75de-ae5f-49a5-b8e0-953018ff9905",
   "metadata": {},
   "outputs": [],
   "source": [
    "import pandas as pd"
   ]
  },
  {
   "cell_type": "code",
   "execution_count": 3,
   "id": "055d67f8-4fbf-4d34-bcbf-19aff7263d57",
   "metadata": {},
   "outputs": [],
   "source": [
    "df = pd.read_csv(\"placement.csv\")"
   ]
  },
  {
   "cell_type": "code",
   "execution_count": 8,
   "id": "0cd2ec9a-6dfe-4ff5-88f0-9a0703e03cb3",
   "metadata": {},
   "outputs": [
    {
     "name": "stdout",
     "output_type": "stream",
     "text": [
      "Info <bound method DataFrame.info of      sl_no gender  ssc_p    ssc_b  hsc_p    hsc_b     hsc_s  degree_p  \\\n",
      "0        1      M  67.00   Others  91.00   Others  Commerce     58.00   \n",
      "1        2      M  79.33  Central  78.33   Others   Science     77.48   \n",
      "2        3      M  65.00  Central  68.00  Central      Arts     64.00   \n",
      "3        4      M  56.00  Central  52.00  Central   Science     52.00   \n",
      "4        5    NaN  85.80  Central  73.60  Central  Commerce     73.30   \n",
      "..     ...    ...    ...      ...    ...      ...       ...       ...   \n",
      "210    211      M  80.60   Others  82.00   Others  Commerce     77.60   \n",
      "211    212      M  58.00   Others  60.00   Others   Science     72.00   \n",
      "212    213      M  67.00   Others  67.00   Others  Commerce     73.00   \n",
      "213    214      F  74.00   Others  66.00   Others  Commerce     58.00   \n",
      "214    215      M  62.00  Central  58.00   Others   Science     53.00   \n",
      "\n",
      "      degree_t workex  etest_p specialisation  mba_p      status    salary  \n",
      "0     Sci&Tech     No     55.0         Mkt&HR  58.80      Placed  270000.0  \n",
      "1     Sci&Tech    Yes     86.5        Mkt&Fin  66.28      Placed  200000.0  \n",
      "2    Comm&Mgmt     No     75.0        Mkt&Fin  57.80      Placed  250000.0  \n",
      "3     Sci&Tech     No     66.0         Mkt&HR  59.43  Not Placed       NaN  \n",
      "4    Comm&Mgmt     No     96.8        Mkt&Fin  55.50      Placed  425000.0  \n",
      "..         ...    ...      ...            ...    ...         ...       ...  \n",
      "210  Comm&Mgmt     No     91.0        Mkt&Fin  74.49      Placed  400000.0  \n",
      "211   Sci&Tech     No     74.0        Mkt&Fin  53.62      Placed  275000.0  \n",
      "212  Comm&Mgmt    Yes     59.0        Mkt&Fin  69.72      Placed  295000.0  \n",
      "213  Comm&Mgmt     No     70.0         Mkt&HR  60.23      Placed  204000.0  \n",
      "214  Comm&Mgmt     No     89.0         Mkt&HR  60.22  Not Placed       NaN  \n",
      "\n",
      "[215 rows x 15 columns]>\n"
     ]
    }
   ],
   "source": [
    "print('Info',df.info)"
   ]
  },
  {
   "cell_type": "code",
   "execution_count": 9,
   "id": "5beb224b-5015-494c-a04a-5ec6c5f29cb4",
   "metadata": {},
   "outputs": [
    {
     "name": "stdout",
     "output_type": "stream",
     "text": [
      "Shape (215, 15)\n"
     ]
    }
   ],
   "source": [
    "print('Shape',df.shape)"
   ]
  },
  {
   "cell_type": "code",
   "execution_count": 10,
   "id": "6d16c1a0-d127-4e15-a732-15ca535e4700",
   "metadata": {},
   "outputs": [
    {
     "name": "stdout",
     "output_type": "stream",
     "text": [
      "Column Name Index(['sl_no', 'gender', 'ssc_p', 'ssc_b', 'hsc_p', 'hsc_b', 'hsc_s',\n",
      "       'degree_p', 'degree_t', 'workex', 'etest_p', 'specialisation', 'mba_p',\n",
      "       'status', 'salary'],\n",
      "      dtype='object')\n"
     ]
    }
   ],
   "source": [
    "print('Column Name',df.columns)"
   ]
  },
  {
   "cell_type": "code",
   "execution_count": 11,
   "id": "b14426ec-922d-416c-8dbb-d2a55f318954",
   "metadata": {},
   "outputs": [
    {
     "name": "stdout",
     "output_type": "stream",
     "text": [
      "Total Element 3225\n"
     ]
    }
   ],
   "source": [
    "print('Total Element',df.size)"
   ]
  },
  {
   "cell_type": "code",
   "execution_count": 12,
   "id": "de47d4d0-eb3a-47e0-9f08-6c680f0faac1",
   "metadata": {},
   "outputs": [
    {
     "name": "stdout",
     "output_type": "stream",
     "text": [
      "First 5 Rows                        0         1          2           3          4\n",
      "sl_no                  1         2          3           4          5\n",
      "gender                 M         M          M           M        NaN\n",
      "ssc_p               67.0     79.33       65.0        56.0       85.8\n",
      "ssc_b             Others   Central    Central     Central    Central\n",
      "hsc_p               91.0     78.33       68.0        52.0       73.6\n",
      "hsc_b             Others    Others    Central     Central    Central\n",
      "hsc_s           Commerce   Science       Arts     Science   Commerce\n",
      "degree_p            58.0     77.48       64.0        52.0       73.3\n",
      "degree_t        Sci&Tech  Sci&Tech  Comm&Mgmt    Sci&Tech  Comm&Mgmt\n",
      "workex                No       Yes         No          No         No\n",
      "etest_p             55.0      86.5       75.0        66.0       96.8\n",
      "specialisation    Mkt&HR   Mkt&Fin    Mkt&Fin      Mkt&HR    Mkt&Fin\n",
      "mba_p               58.8     66.28       57.8       59.43       55.5\n",
      "status            Placed    Placed     Placed  Not Placed     Placed\n",
      "salary          270000.0  200000.0   250000.0         NaN   425000.0\n"
     ]
    }
   ],
   "source": [
    "print('First 5 Rows',df.head().T)"
   ]
  },
  {
   "cell_type": "code",
   "execution_count": 13,
   "id": "8f594988-c667-49ec-90ab-4bfb6a2cba40",
   "metadata": {},
   "outputs": [
    {
     "name": "stdout",
     "output_type": "stream",
     "text": [
      "Last 5 Rows                       210       211        212        213         214\n",
      "sl_no                 211       212        213        214         215\n",
      "gender                  M         M          M          F           M\n",
      "ssc_p                80.6      58.0       67.0       74.0        62.0\n",
      "ssc_b              Others    Others     Others     Others     Central\n",
      "hsc_p                82.0      60.0       67.0       66.0        58.0\n",
      "hsc_b              Others    Others     Others     Others      Others\n",
      "hsc_s            Commerce   Science   Commerce   Commerce     Science\n",
      "degree_p             77.6      72.0       73.0       58.0        53.0\n",
      "degree_t        Comm&Mgmt  Sci&Tech  Comm&Mgmt  Comm&Mgmt   Comm&Mgmt\n",
      "workex                 No        No        Yes         No          No\n",
      "etest_p              91.0      74.0       59.0       70.0        89.0\n",
      "specialisation    Mkt&Fin   Mkt&Fin    Mkt&Fin     Mkt&HR      Mkt&HR\n",
      "mba_p               74.49     53.62      69.72      60.23       60.22\n",
      "status             Placed    Placed     Placed     Placed  Not Placed\n",
      "salary           400000.0  275000.0   295000.0   204000.0         NaN\n"
     ]
    }
   ],
   "source": [
    "print('Last 5 Rows',df.tail().T)"
   ]
  },
  {
   "cell_type": "code",
   "execution_count": 14,
   "id": "b6a318bf-4cc2-4215-8fea-3ee21491e03a",
   "metadata": {},
   "outputs": [
    {
     "name": "stdout",
     "output_type": "stream",
     "text": [
      "Any 5 Rows                        155        28         55         151        122\n",
      "sl_no                  156         29         56        152        123\n",
      "gender                   M          M          M          M          F\n",
      "ssc_p                51.57      76.76       60.4       65.0       66.5\n",
      "ssc_b               Others     Others    Central    Central    Central\n",
      "hsc_p                74.66       76.5       66.6       65.0       66.8\n",
      "hsc_b               Others     Others     Others    Central    Central\n",
      "hsc_s             Commerce   Commerce    Science   Commerce       Arts\n",
      "degree_p              59.9       67.5       65.0       75.0       69.3\n",
      "degree_t         Comm&Mgmt  Comm&Mgmt  Comm&Mgmt  Comm&Mgmt  Comm&Mgmt\n",
      "workex                 Yes        Yes         No         No        Yes\n",
      "etest_p              56.15      73.35       71.0       83.0       80.4\n",
      "specialisation      Mkt&HR    Mkt&Fin     Mkt&HR    Mkt&Fin    Mkt&Fin\n",
      "mba_p                65.99      64.15      52.71      58.87       71.0\n",
      "status          Not Placed     Placed     Placed     Placed     Placed\n",
      "salary                 NaN   350000.0   220000.0   270000.0   236000.0\n"
     ]
    }
   ],
   "source": [
    "print('Any 5 Rows',df.sample(5).T)"
   ]
  },
  {
   "cell_type": "code",
   "execution_count": 16,
   "id": "c9dc2a0d-1a78-4ede-9b44-f2c65a91022f",
   "metadata": {},
   "outputs": [
    {
     "name": "stdout",
     "output_type": "stream",
     "text": [
      "Statistical Info:\n",
      "             sl_no       ssc_p       hsc_p    degree_p     etest_p       mba_p  \\\n",
      "count  215.000000  213.000000  214.000000  213.000000  213.000000  213.000000   \n",
      "mean   108.000000   67.372911   66.344065   66.388404   72.219390   62.266103   \n",
      "std     62.209324   10.811464   10.921885    7.256840   13.255118    5.837303   \n",
      "min      1.000000   40.890000   37.000000   50.200000   50.000000   51.210000   \n",
      "25%     54.500000   60.800000   60.850000   61.000000   60.000000   57.900000   \n",
      "50%    108.000000   67.000000   65.000000   66.000000   71.000000   62.000000   \n",
      "75%    161.500000   76.000000   73.000000   72.000000   84.000000   66.230000   \n",
      "max    215.000000   89.400000   97.700000   91.000000   98.000000   77.890000   \n",
      "\n",
      "              salary  \n",
      "count     148.000000  \n",
      "mean   288655.405405  \n",
      "std     93457.452420  \n",
      "min    200000.000000  \n",
      "25%    240000.000000  \n",
      "50%    265000.000000  \n",
      "75%    300000.000000  \n",
      "max    940000.000000  \n"
     ]
    }
   ],
   "source": [
    "print('Statistical Info:\\n',df.describe())"
   ]
  },
  {
   "cell_type": "code",
   "execution_count": 18,
   "id": "75fd0ad2-a0cb-4d8c-80a9-502a10970c4c",
   "metadata": {},
   "outputs": [
    {
     "name": "stdout",
     "output_type": "stream",
     "text": [
      "total null values:\n",
      " sl_no              0\n",
      "gender             2\n",
      "ssc_p              2\n",
      "ssc_b              1\n",
      "hsc_p              1\n",
      "hsc_b              2\n",
      "hsc_s              2\n",
      "degree_p           2\n",
      "degree_t           1\n",
      "workex             2\n",
      "etest_p            2\n",
      "specialisation     2\n",
      "mba_p              2\n",
      "status             0\n",
      "salary            67\n",
      "dtype: int64\n"
     ]
    }
   ],
   "source": [
    "print('total null values:\\n',df.isna().sum())"
   ]
  },
  {
   "cell_type": "code",
   "execution_count": 19,
   "id": "0c5780e6-2a4a-4507-992c-0438f4b6e44c",
   "metadata": {},
   "outputs": [],
   "source": [
    "df['gender'].fillna(df['gender'].mode()[0],inplace=True)"
   ]
  },
  {
   "cell_type": "code",
   "execution_count": 23,
   "id": "66a29a18-6c9e-4cf3-a1ea-c8cc9fdba0f1",
   "metadata": {},
   "outputs": [],
   "source": [
    "df['ssc_p'].fillna(df['ssc_p'].mean(),inplace=True)"
   ]
  },
  {
   "cell_type": "code",
   "execution_count": 24,
   "id": "6064f521-cf73-4c98-81ff-ce12ae519100",
   "metadata": {},
   "outputs": [
    {
     "name": "stdout",
     "output_type": "stream",
     "text": [
      "total null values:\n",
      " sl_no              0\n",
      "gender             0\n",
      "ssc_p              0\n",
      "ssc_b              1\n",
      "hsc_p              1\n",
      "hsc_b              2\n",
      "hsc_s              2\n",
      "degree_p           2\n",
      "degree_t           1\n",
      "workex             2\n",
      "etest_p            2\n",
      "specialisation     2\n",
      "mba_p              2\n",
      "status             0\n",
      "salary            67\n",
      "dtype: int64\n"
     ]
    }
   ],
   "source": [
    "print('total null values:\\n',df.isna().sum())"
   ]
  },
  {
   "cell_type": "code",
   "execution_count": 26,
   "id": "3e930705-12df-4aa5-bb3d-08bb6e632a6e",
   "metadata": {},
   "outputs": [
    {
     "data": {
      "text/plain": [
       "sl_no               int64\n",
       "gender             object\n",
       "ssc_p             float64\n",
       "ssc_b              object\n",
       "hsc_p             float64\n",
       "hsc_b              object\n",
       "hsc_s              object\n",
       "degree_p          float64\n",
       "degree_t           object\n",
       "workex             object\n",
       "etest_p           float64\n",
       "specialisation     object\n",
       "mba_p             float64\n",
       "status             object\n",
       "salary            float64\n",
       "dtype: object"
      ]
     },
     "execution_count": 26,
     "metadata": {},
     "output_type": "execute_result"
    }
   ],
   "source": [
    "df.dtypes"
   ]
  },
  {
   "cell_type": "code",
   "execution_count": 29,
   "id": "3817c671-f251-47e9-8051-bc62e1c86aa2",
   "metadata": {},
   "outputs": [],
   "source": [
    "df['sl_no']=df['sl_no'].astype('int8')"
   ]
  },
  {
   "cell_type": "code",
   "execution_count": 30,
   "id": "ffa3cfa2-1864-4f25-bc36-3925537df250",
   "metadata": {},
   "outputs": [
    {
     "data": {
      "text/plain": [
       "dtype('int8')"
      ]
     },
     "execution_count": 30,
     "metadata": {},
     "output_type": "execute_result"
    }
   ],
   "source": [
    "df['sl_no'].dtypes"
   ]
  },
  {
   "cell_type": "code",
   "execution_count": 31,
   "id": "6d9541e9-249b-4ac9-bdf1-b43bc6dc6d76",
   "metadata": {},
   "outputs": [],
   "source": [
    "df['gender'].replace(['M','F'],[1,2],inplace=True)"
   ]
  },
  {
   "cell_type": "code",
   "execution_count": 32,
   "id": "76f77bef-75c2-4fdb-823d-d7959f39c08f",
   "metadata": {},
   "outputs": [
    {
     "data": {
      "text/plain": [
       "0      1\n",
       "1      1\n",
       "2      1\n",
       "3      1\n",
       "4      1\n",
       "      ..\n",
       "210    1\n",
       "211    1\n",
       "212    1\n",
       "213    2\n",
       "214    1\n",
       "Name: gender, Length: 215, dtype: int64"
      ]
     },
     "execution_count": 32,
     "metadata": {},
     "output_type": "execute_result"
    }
   ],
   "source": [
    "df['gender']"
   ]
  },
  {
   "cell_type": "code",
   "execution_count": 34,
   "id": "c89fabea-63be-46e8-8705-21944f02f3bd",
   "metadata": {},
   "outputs": [],
   "source": [
    "df['ssc_b']=df['ssc_b'].astype('category')"
   ]
  },
  {
   "cell_type": "code",
   "execution_count": 35,
   "id": "d8b87522-8a53-4869-b78d-89a447dba4f3",
   "metadata": {},
   "outputs": [
    {
     "data": {
      "text/plain": [
       "0       Others\n",
       "1      Central\n",
       "2      Central\n",
       "3      Central\n",
       "4      Central\n",
       "        ...   \n",
       "210     Others\n",
       "211     Others\n",
       "212     Others\n",
       "213     Others\n",
       "214    Central\n",
       "Name: ssc_b, Length: 215, dtype: category\n",
       "Categories (2, object): ['Central', 'Others']"
      ]
     },
     "execution_count": 35,
     "metadata": {},
     "output_type": "execute_result"
    }
   ],
   "source": [
    "df['ssc_b']"
   ]
  },
  {
   "cell_type": "code",
   "execution_count": 36,
   "id": "04eaaec0-87d5-4bf8-b9f2-a943e1c7f97b",
   "metadata": {},
   "outputs": [],
   "source": [
    " df['ssc_b']=df['ssc_b'].cat.codes"
   ]
  },
  {
   "cell_type": "code",
   "execution_count": 37,
   "id": "9c8628b8-e60a-4218-a515-bd4769f42977",
   "metadata": {},
   "outputs": [
    {
     "data": {
      "text/plain": [
       "0      1\n",
       "1      0\n",
       "2      0\n",
       "3      0\n",
       "4      0\n",
       "      ..\n",
       "210    1\n",
       "211    1\n",
       "212    1\n",
       "213    1\n",
       "214    0\n",
       "Name: ssc_b, Length: 215, dtype: int8"
      ]
     },
     "execution_count": 37,
     "metadata": {},
     "output_type": "execute_result"
    }
   ],
   "source": [
    " df['ssc_b']"
   ]
  },
  {
   "cell_type": "code",
   "execution_count": 38,
   "id": "ef2bf990-67a8-4051-b819-d25bb8f2f32c",
   "metadata": {},
   "outputs": [],
   "source": [
    "from sklearn.preprocessing import OrdinalEncoder"
   ]
  },
  {
   "cell_type": "code",
   "execution_count": 39,
   "id": "a7c184a9-035d-4490-94ef-5b059d50482b",
   "metadata": {},
   "outputs": [],
   "source": [
    "enc = OrdinalEncoder()"
   ]
  },
  {
   "cell_type": "code",
   "execution_count": 42,
   "id": "2ad5ba30-1c26-456b-9211-50db5c5c3e63",
   "metadata": {},
   "outputs": [],
   "source": [
    "df[['status']]=enc.fit_transform(df[['status']])"
   ]
  },
  {
   "cell_type": "code",
   "execution_count": 43,
   "id": "8131cde2-c9a1-45df-9ecd-5822edcf6a84",
   "metadata": {},
   "outputs": [
    {
     "data": {
      "text/plain": [
       "0      1.0\n",
       "1      1.0\n",
       "2      1.0\n",
       "3      0.0\n",
       "4      1.0\n",
       "      ... \n",
       "210    1.0\n",
       "211    1.0\n",
       "212    1.0\n",
       "213    1.0\n",
       "214    0.0\n",
       "Name: status, Length: 215, dtype: float64"
      ]
     },
     "execution_count": 43,
     "metadata": {},
     "output_type": "execute_result"
    }
   ],
   "source": [
    "df['status']"
   ]
  },
  {
   "cell_type": "code",
   "execution_count": 44,
   "id": "e1d19f9f-d01a-45ce-bfe6-029d448df097",
   "metadata": {},
   "outputs": [],
   "source": [
    "df['etest_p']=(df['etest_p'].min())/(df['etest_p'].max()-df['etest_p'].min())"
   ]
  },
  {
   "cell_type": "code",
   "execution_count": 45,
   "id": "0b84aa13-8f1a-4ff9-89a0-cae4f90ead0a",
   "metadata": {},
   "outputs": [
    {
     "data": {
      "text/plain": [
       "0      1.041667\n",
       "1      1.041667\n",
       "2      1.041667\n",
       "3      1.041667\n",
       "4      1.041667\n",
       "         ...   \n",
       "210    1.041667\n",
       "211    1.041667\n",
       "212    1.041667\n",
       "213    1.041667\n",
       "214    1.041667\n",
       "Name: etest_p, Length: 215, dtype: float64"
      ]
     },
     "execution_count": 45,
     "metadata": {},
     "output_type": "execute_result"
    }
   ],
   "source": [
    "df['etest_p']"
   ]
  },
  {
   "cell_type": "code",
   "execution_count": 46,
   "id": "2536fd9d-83dd-4cb0-b077-ad32583f99e7",
   "metadata": {},
   "outputs": [],
   "source": [
    "from sklearn.preprocessing import MaxAbsScaler"
   ]
  },
  {
   "cell_type": "code",
   "execution_count": 47,
   "id": "57bba200-9fed-478d-8b81-cd87a1e66e15",
   "metadata": {},
   "outputs": [],
   "source": [
    "abs=MaxAbsScaler()"
   ]
  },
  {
   "cell_type": "code",
   "execution_count": 48,
   "id": "a2a0260e-c9ae-4b7a-b113-adedc4c0a482",
   "metadata": {},
   "outputs": [],
   "source": [
    "df['degree_p']=abs.fit_transform(df[['degree_p']])"
   ]
  },
  {
   "cell_type": "code",
   "execution_count": 49,
   "id": "c26224d1-9df1-48d7-9e39-9741bd7981dc",
   "metadata": {},
   "outputs": [
    {
     "data": {
      "text/plain": [
       "0      0.637363\n",
       "1      0.851429\n",
       "2      0.703297\n",
       "3      0.571429\n",
       "4      0.805495\n",
       "         ...   \n",
       "210    0.852747\n",
       "211    0.791209\n",
       "212    0.802198\n",
       "213    0.637363\n",
       "214    0.582418\n",
       "Name: degree_p, Length: 215, dtype: float64"
      ]
     },
     "execution_count": 49,
     "metadata": {},
     "output_type": "execute_result"
    }
   ],
   "source": [
    "df['degree_p']"
   ]
  },
  {
   "cell_type": "code",
   "execution_count": null,
   "id": "5d902150-e8a7-424f-aa13-5a6d10a05adb",
   "metadata": {},
   "outputs": [],
   "source": []
  }
 ],
 "metadata": {
  "kernelspec": {
   "display_name": "Python 3 (ipykernel)",
   "language": "python",
   "name": "python3"
  },
  "language_info": {
   "codemirror_mode": {
    "name": "ipython",
    "version": 3
   },
   "file_extension": ".py",
   "mimetype": "text/x-python",
   "name": "python",
   "nbconvert_exporter": "python",
   "pygments_lexer": "ipython3",
   "version": "3.11.7"
  }
 },
 "nbformat": 4,
 "nbformat_minor": 5
}
