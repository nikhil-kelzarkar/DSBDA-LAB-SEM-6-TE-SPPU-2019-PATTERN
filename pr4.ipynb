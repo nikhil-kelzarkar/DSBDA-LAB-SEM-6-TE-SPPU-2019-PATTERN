{
 "cells": [
  {
   "cell_type": "code",
   "execution_count": 27,
   "id": "1abfe446-9a2b-4315-8256-17bf46fd2ece",
   "metadata": {},
   "outputs": [],
   "source": [
    " import pandas as pd\n",
    " import numpy as np\n",
    " import matplotlib.pyplot as plt\n",
    " import seaborn as sns"
   ]
  },
  {
   "cell_type": "code",
   "execution_count": 28,
   "id": "c4f79d69-606f-400f-ac08-86103ef12bbb",
   "metadata": {},
   "outputs": [],
   "source": [
    "def RemoveOutlier(df,var):\n",
    " Q1 = df[var].quantile(0.25)\n",
    " Q3 = df[var].quantile(0.75)\n",
    " IQR = Q3 - Q1\n",
    " high, low = Q3+1.5*IQR, Q1-1.5*IQR\n",
    " print(\"Highest allowed in variable:\", var, high)\n",
    " print(\"lowest allowed in variable:\", var, low)\n",
    " count = df[(df[var] > high) | (df[var] < low)][var].count()\n",
    " print('Total outliers in:',var,':',count)\n",
    " df = df[((df[var] >= low) & (df[var] <= high))]\n",
    " return df"
   ]
  },
  {
   "cell_type": "code",
   "execution_count": 29,
   "id": "d698432a-6721-449f-8670-728c7cd86e8e",
   "metadata": {},
   "outputs": [],
   "source": [
    "def BuildModel(X, Y):\n",
    " # 1. divide the dataset into training and testing  80%train 20%testing\n",
    " # 2. Choose the model (linear regression)\n",
    " # 3. Train the model using training data\n",
    " # 4. Test the model using testing data\n",
    " # 5. Improve the performance of the model\n",
    " # Training and testing data\n",
    " from sklearn.model_selection import train_test_split\n",
    " # Assign test data size 20%\n",
    " xtrain, xtest, ytrain, ytest =train_test_split(X,Y,test_size= 0.20, random_state=0)       \n",
    "# Model selection and training\n",
    " from sklearn.linear_model import LinearRegression\n",
    " model = LinearRegression()\n",
    " model = model.fit(xtrain,ytrain)   \n",
    "     #Training\n",
    " #Testing the model & show its accuracy / Performance\n",
    " ypred = model.predict(xtest)\n",
    " from sklearn.metrics import mean_absolute_error\n",
    " print('MAE:',mean_absolute_error(ytest,ypred))\n",
    " print(\"Model Score:\",model.score(xtest,ytest))"
   ]
  },
  {
   "cell_type": "code",
   "execution_count": 30,
   "id": "ac8dad37-485f-4ca0-bf7f-dff050139f4e",
   "metadata": {},
   "outputs": [],
   "source": [
    " df = pd.read_csv('Boston.csv')"
   ]
  },
  {
   "cell_type": "code",
   "execution_count": 31,
   "id": "38372798-0d1f-4fbf-bfe6-d315fc548aa7",
   "metadata": {},
   "outputs": [
    {
     "name": "stdout",
     "output_type": "stream",
     "text": [
      "Information of Dataset:\n",
      " <bound method DataFrame.info of      Unnamed: 0     crim    zn  indus  chas    nox     rm   age     dis  rad  \\\n",
      "0             1  0.00632  18.0   2.31     0  0.538  6.575  65.2  4.0900    1   \n",
      "1             2  0.02731   0.0   7.07     0  0.469  6.421  78.9  4.9671    2   \n",
      "2             3  0.02729   0.0   7.07     0  0.469  7.185  61.1  4.9671    2   \n",
      "3             4  0.03237   0.0   2.18     0  0.458  6.998  45.8  6.0622    3   \n",
      "4             5  0.06905   0.0   2.18     0  0.458  7.147  54.2  6.0622    3   \n",
      "..          ...      ...   ...    ...   ...    ...    ...   ...     ...  ...   \n",
      "501         502  0.06263   0.0  11.93     0  0.573  6.593  69.1  2.4786    1   \n",
      "502         503  0.04527   0.0  11.93     0  0.573  6.120  76.7  2.2875    1   \n",
      "503         504  0.06076   0.0  11.93     0  0.573  6.976  91.0  2.1675    1   \n",
      "504         505  0.10959   0.0  11.93     0  0.573  6.794  89.3  2.3889    1   \n",
      "505         506  0.04741   0.0  11.93     0  0.573  6.030  80.8  2.5050    1   \n",
      "\n",
      "     tax  ptratio   black  lstat  medv  \n",
      "0    296     15.3  396.90   4.98  24.0  \n",
      "1    242     17.8  396.90   9.14  21.6  \n",
      "2    242     17.8  392.83   4.03  34.7  \n",
      "3    222     18.7  394.63   2.94  33.4  \n",
      "4    222     18.7  396.90   5.33  36.2  \n",
      "..   ...      ...     ...    ...   ...  \n",
      "501  273     21.0  391.99   9.67  22.4  \n",
      "502  273     21.0  396.90   9.08  20.6  \n",
      "503  273     21.0  396.90   5.64  23.9  \n",
      "504  273     21.0  393.45   6.48  22.0  \n",
      "505  273     21.0  396.90   7.88  11.9  \n",
      "\n",
      "[506 rows x 15 columns]>\n",
      "Shape of Dataset (row x column):  (506, 15)\n",
      "Columns Name:  Index(['Unnamed: 0', 'crim', 'zn', 'indus', 'chas', 'nox', 'rm', 'age', 'dis',\n",
      "       'rad', 'tax', 'ptratio', 'black', 'lstat', 'medv'],\n",
      "      dtype='object')\n",
      "Total elements in dataset: 7590\n",
      "Datatype of attributes (columns): Unnamed: 0      int64\n",
      "crim          float64\n",
      "zn            float64\n",
      "indus         float64\n",
      "chas            int64\n",
      "nox           float64\n",
      "rm            float64\n",
      "age           float64\n",
      "dis           float64\n",
      "rad             int64\n",
      "tax             int64\n",
      "ptratio       float64\n",
      "black         float64\n",
      "lstat         float64\n",
      "medv          float64\n",
      "dtype: object\n",
      "First 5 rows:\n",
      "                     0          1          2          3          4\n",
      "Unnamed: 0    1.00000    2.00000    3.00000    4.00000    5.00000\n",
      "crim          0.00632    0.02731    0.02729    0.03237    0.06905\n",
      "zn           18.00000    0.00000    0.00000    0.00000    0.00000\n",
      "indus         2.31000    7.07000    7.07000    2.18000    2.18000\n",
      "chas          0.00000    0.00000    0.00000    0.00000    0.00000\n",
      "nox           0.53800    0.46900    0.46900    0.45800    0.45800\n",
      "rm            6.57500    6.42100    7.18500    6.99800    7.14700\n",
      "age          65.20000   78.90000   61.10000   45.80000   54.20000\n",
      "dis           4.09000    4.96710    4.96710    6.06220    6.06220\n",
      "rad           1.00000    2.00000    2.00000    3.00000    3.00000\n",
      "tax         296.00000  242.00000  242.00000  222.00000  222.00000\n",
      "ptratio      15.30000   17.80000   17.80000   18.70000   18.70000\n",
      "black       396.90000  396.90000  392.83000  394.63000  396.90000\n",
      "lstat         4.98000    9.14000    4.03000    2.94000    5.33000\n",
      "medv         24.00000   21.60000   34.70000   33.40000   36.20000\n",
      "Last 5 rows:\n",
      "                   501        502        503        504        505\n",
      "Unnamed: 0  502.00000  503.00000  504.00000  505.00000  506.00000\n",
      "crim          0.06263    0.04527    0.06076    0.10959    0.04741\n",
      "zn            0.00000    0.00000    0.00000    0.00000    0.00000\n",
      "indus        11.93000   11.93000   11.93000   11.93000   11.93000\n",
      "chas          0.00000    0.00000    0.00000    0.00000    0.00000\n",
      "nox           0.57300    0.57300    0.57300    0.57300    0.57300\n",
      "rm            6.59300    6.12000    6.97600    6.79400    6.03000\n",
      "age          69.10000   76.70000   91.00000   89.30000   80.80000\n",
      "dis           2.47860    2.28750    2.16750    2.38890    2.50500\n",
      "rad           1.00000    1.00000    1.00000    1.00000    1.00000\n",
      "tax         273.00000  273.00000  273.00000  273.00000  273.00000\n",
      "ptratio      21.00000   21.00000   21.00000   21.00000   21.00000\n",
      "black       391.99000  396.90000  396.90000  393.45000  396.90000\n",
      "lstat         9.67000    9.08000    5.64000    6.48000    7.88000\n",
      "medv         22.40000   20.60000   23.90000   22.00000   11.90000\n",
      "Any 5 rows:\n",
      "                   421        108        232        134        484\n",
      "Unnamed: 0  422.00000  109.00000  233.00000  135.00000  485.00000\n",
      "crim          7.02259    0.12802    0.57529    0.97617    2.37857\n",
      "zn            0.00000    0.00000    0.00000    0.00000    0.00000\n",
      "indus        18.10000    8.56000    6.20000   21.89000   18.10000\n",
      "chas          0.00000    0.00000    0.00000    0.00000    0.00000\n",
      "nox           0.71800    0.52000    0.50700    0.62400    0.58300\n",
      "rm            6.00600    6.47400    8.33700    5.75700    5.87100\n",
      "age          95.30000   97.10000   73.30000   98.40000   41.90000\n",
      "dis           1.87460    2.43290    3.83840    2.34600    3.72400\n",
      "rad          24.00000    5.00000    8.00000    4.00000   24.00000\n",
      "tax         666.00000  384.00000  307.00000  437.00000  666.00000\n",
      "ptratio      20.20000   20.90000   17.40000   21.20000   20.20000\n",
      "black       319.98000  395.24000  385.91000  262.76000  370.73000\n",
      "lstat        15.70000   12.27000    2.47000   17.31000   13.34000\n",
      "medv         14.20000   19.80000   41.70000   15.60000   20.60000\n"
     ]
    }
   ],
   "source": [
    "print('Information of Dataset:\\n', df.info)\n",
    "print('Shape of Dataset (row x column): ', df.shape)\n",
    "print('Columns Name: ', df.columns)\n",
    "print('Total elements in dataset:', df.size)\n",
    "print('Datatype of attributes (columns):', df.dtypes)\n",
    "print('First 5 rows:\\n', df.head().T)\n",
    "print('Last 5 rows:\\n',df.tail().T)\n",
    "print('Any 5 rows:\\n',df.sample(5).T)"
   ]
  },
  {
   "cell_type": "code",
   "execution_count": 32,
   "id": "fe47ffcd-6bb0-4f83-9ab4-f7ecfefb3064",
   "metadata": {},
   "outputs": [
    {
     "name": "stdout",
     "output_type": "stream",
     "text": [
      "Statistical information of Numerical Columns: \n",
      "             count        mean         std        min         25%        50%  \\\n",
      "Unnamed: 0  506.0  253.500000  146.213884    1.00000  127.250000  253.50000   \n",
      "crim        506.0    3.613524    8.601545    0.00632    0.082045    0.25651   \n",
      "zn          506.0   11.363636   23.322453    0.00000    0.000000    0.00000   \n",
      "indus       506.0   11.136779    6.860353    0.46000    5.190000    9.69000   \n",
      "chas        506.0    0.069170    0.253994    0.00000    0.000000    0.00000   \n",
      "nox         506.0    0.554695    0.115878    0.38500    0.449000    0.53800   \n",
      "rm          506.0    6.284634    0.702617    3.56100    5.885500    6.20850   \n",
      "age         506.0   68.574901   28.148861    2.90000   45.025000   77.50000   \n",
      "dis         506.0    3.795043    2.105710    1.12960    2.100175    3.20745   \n",
      "rad         506.0    9.549407    8.707259    1.00000    4.000000    5.00000   \n",
      "tax         506.0  408.237154  168.537116  187.00000  279.000000  330.00000   \n",
      "ptratio     506.0   18.455534    2.164946   12.60000   17.400000   19.05000   \n",
      "black       506.0  356.674032   91.294864    0.32000  375.377500  391.44000   \n",
      "lstat       506.0   12.653063    7.141062    1.73000    6.950000   11.36000   \n",
      "medv        506.0   22.532806    9.197104    5.00000   17.025000   21.20000   \n",
      "\n",
      "                   75%       max  \n",
      "Unnamed: 0  379.750000  506.0000  \n",
      "crim          3.677083   88.9762  \n",
      "zn           12.500000  100.0000  \n",
      "indus        18.100000   27.7400  \n",
      "chas          0.000000    1.0000  \n",
      "nox           0.624000    0.8710  \n",
      "rm            6.623500    8.7800  \n",
      "age          94.075000  100.0000  \n",
      "dis           5.188425   12.1265  \n",
      "rad          24.000000   24.0000  \n",
      "tax         666.000000  711.0000  \n",
      "ptratio      20.200000   22.0000  \n",
      "black       396.225000  396.9000  \n",
      "lstat        16.955000   37.9700  \n",
      "medv         25.000000   50.0000  \n"
     ]
    }
   ],
   "source": [
    "print('Statistical information of Numerical Columns: \\n',df.describe().T)"
   ]
  },
  {
   "cell_type": "code",
   "execution_count": 33,
   "id": "4b51f3a5-5ab1-4819-8a7c-08cbec8c1863",
   "metadata": {},
   "outputs": [
    {
     "name": "stdout",
     "output_type": "stream",
     "text": [
      "Total Number of Null Values in Dataset: Unnamed: 0    0\n",
      "crim          0\n",
      "zn            0\n",
      "indus         0\n",
      "chas          0\n",
      "nox           0\n",
      "rm            0\n",
      "age           0\n",
      "dis           0\n",
      "rad           0\n",
      "tax           0\n",
      "ptratio       0\n",
      "black         0\n",
      "lstat         0\n",
      "medv          0\n",
      "dtype: int64\n"
     ]
    }
   ],
   "source": [
    "print('Total Number of Null Values in Dataset:', df.isna().sum())"
   ]
  },
  {
   "cell_type": "code",
   "execution_count": 34,
   "id": "f7707bf2-8313-47f0-b2a8-36edd616c42b",
   "metadata": {},
   "outputs": [
    {
     "data": {
      "image/png": "[encoded data removed]",
      "text/plain": [
       "<Figure size 640x480 with 2 Axes>"
      ]
     },
     "metadata": {},
     "output_type": "display_data"
    }
   ],
   "source": [
    "sns.heatmap(df.corr(),annot=True)\n",
    "plt.show()"
   ]
  },
  {
   "cell_type": "code",
   "execution_count": 35,
   "id": "88e2d1c1-867c-44c0-b876-61902be9c5fe",
   "metadata": {},
   "outputs": [
    {
     "name": "stdout",
     "output_type": "stream",
     "text": [
      "MAE: 5.1367091986231115\n",
      "Model Score: 0.36774580178654837\n"
     ]
    }
   ],
   "source": [
    "X = df[['ptratio','lstat']]\n",
    "Y = df['medv']\n",
    "BuildModel(X, Y)"
   ]
  },
  {
   "cell_type": "code",
   "execution_count": 36,
   "id": "327d758c-ac3b-413a-9e43-4640a5ce749d",
   "metadata": {},
   "outputs": [
    {
     "data": {
      "image/png": "[encoded data removed]",
      "text/plain": [
       "<Figure size 640x480 with 2 Axes>"
      ]
     },
     "metadata": {},
     "output_type": "display_data"
    }
   ],
   "source": [
    "fig, axes = plt.subplots(1,2)\n",
    "sns.boxplot(data = df, x ='ptratio', ax=axes[0])\n",
    "sns.boxplot(data = df, x ='lstat', ax=axes[1])\n",
    "fig.tight_layout()\n",
    "plt.show()"
   ]
  },
  {
   "cell_type": "code",
   "execution_count": null,
   "id": "c007b6b0-70ad-4110-b2e1-6469a44754ea",
   "metadata": {},
   "outputs": [],
   "source": []
  },
  {
   "cell_type": "code",
   "execution_count": 38,
   "id": "178aa26e-29f0-4e1f-b5ef-b1ee7ed78f08",
   "metadata": {},
   "outputs": [
    {
     "data": {
      "image/png": "[encoded data removed]",
      "text/plain": [
       "<Figure size 640x480 with 2 Axes>"
      ]
     },
     "metadata": {},
     "output_type": "display_data"
    }
   ],
   "source": [
    "fig, axes = plt.subplots(1,2)\n",
    "sns.boxplot(data = df, x ='ptratio', ax=axes[0])\n",
    "sns.boxplot(data = df, x ='lstat', ax=axes[1])\n",
    "fig.tight_layout()\n",
    "plt.show()"
   ]
  },
  {
   "cell_type": "code",
   "execution_count": 39,
   "id": "d1f65e6b-27a7-4515-aa31-8d16d99e35e9",
   "metadata": {},
   "outputs": [
    {
     "name": "stdout",
     "output_type": "stream",
     "text": [
      "MAE: 4.529788999143724\n",
      "Model Score: 0.5362875680057495\n"
     ]
    }
   ],
   "source": [
    "X = df[['ptratio','lstat']]\n",
    "Y = df['medv']\n",
    "BuildModel(X, Y)"
   ]
  },
  {
   "cell_type": "code",
   "execution_count": 42,
   "id": "2036b7aa-bb17-44a2-83ca-d801ddf1a285",
   "metadata": {},
   "outputs": [
    {
     "name": "stdout",
     "output_type": "stream",
     "text": [
      "MAE: 4.030709795767343\n",
      "Model Score: 0.5925717947605273\n"
     ]
    }
   ],
   "source": [
    "X = df[['rm','lstat', 'ptratio']]\n",
    "Y = df['medv']\n",
    "BuildModel(X, Y)"
   ]
  },
  {
   "cell_type": "code",
   "execution_count": 45,
   "id": "d2389e77-0fc0-48a1-9725-db010832e8b7",
   "metadata": {},
   "outputs": [
    {
     "name": "stdout",
     "output_type": "stream",
     "text": [
      "Highest allowed in variable: lstat 31.79\n",
      "lowest allowed in variable: lstat -7.889999999999999\n",
      "Total outliers in: lstat : 0\n"
     ]
    }
   ],
   "source": [
    " df = RemoveOutlier(df, 'lstat')"
   ]
  },
  {
   "cell_type": "code",
   "execution_count": 46,
   "id": "f52ac0c4-aefe-479c-96bb-07a2d67b4e5b",
   "metadata": {},
   "outputs": [
    {
     "data": {
      "image/png": "[encoded data removed]",
      "text/plain": [
       "<Figure size 640x480 with 2 Axes>"
      ]
     },
     "metadata": {},
     "output_type": "display_data"
    }
   ],
   "source": [
    "fig, axes = plt.subplots(1,2)\n",
    "sns.boxplot(data = df, x ='ptratio', ax=axes[0])\n",
    "sns.boxplot(data = df, x ='lstat', ax=axes[1])\n",
    "plt.show()"
   ]
  }
 ],
 "metadata": {
  "kernelspec": {
   "display_name": "Python 3 (ipykernel)",
   "language": "python",
   "name": "python3"
  },
  "language_info": {
   "codemirror_mode": {
    "name": "ipython",
    "version": 3
   },
   "file_extension": ".py",
   "mimetype": "text/x-python",
   "name": "python",
   "nbconvert_exporter": "python",
   "pygments_lexer": "ipython3",
   "version": "3.11.7"
  }
 },
 "nbformat": 4,
 "nbformat_minor": 5
}
